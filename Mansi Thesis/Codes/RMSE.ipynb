{
 "cells": [
  {
   "cell_type": "code",
   "execution_count": 6,
   "id": "818ce526-162c-4614-93cd-e1385f37f915",
   "metadata": {},
   "outputs": [
    {
     "name": "stdout",
     "output_type": "stream",
     "text": [
      "Pre-campaign data columns: Index(['Impressions', 'Reach', 'Likes', 'Love Reactions', 'Care Reactions',\n",
      "       'Haha Reactions', 'Wow Reactions', 'Sad Reactions', 'Angry Reactions',\n",
      "       'Comment Count', 'Comment Replies', 'Share Count', 'Shared Reach',\n",
      "       'Link Clicks', 'Photo/Video Clicks', 'Profile Clicks', 'Video Views',\n",
      "       'Hide Post', 'Report as Spam', 'Unfollow Page', 'CTR (%)',\n",
      "       'Conversions', 'Conversion Rate (%)', 'CPC(Rs)', 'CPA(Rs)'],\n",
      "      dtype='object')\n",
      "Synthetic data columns: Index(['Impressions', 'Reach', 'Likes', 'Love Reactions', 'Care Reactions',\n",
      "       'Haha Reactions', 'Wow Reactions', 'Sad Reactions', 'Angry Reactions',\n",
      "       'Comment Count', 'Comment Replies', 'Share Count', 'Shared Reach',\n",
      "       'Link Clicks', 'Photo/Video Clicks', 'Profile Clicks', 'Video Views',\n",
      "       'Hide Post', 'Report as Spam', 'Unfollow Page', 'CTR (%)',\n",
      "       'Conversions', 'Conversion Rate (%)', 'CPC(Rs)', 'CPA(Rs)'],\n",
      "      dtype='object')\n",
      "Download the file from: C:\\Users\\karan\\Downloads\\Mansi Thesis\\RMSE\\rmse_results.xlsx\n"
     ]
    }
   ],
   "source": [
    "import pandas as pd\n",
    "import numpy as np\n",
    "\n",
    "# Load the two Excel files\n",
    "pre_campaign_data = pd.read_excel(r\"C:\\Users\\karan\\Downloads\\Mansi Thesis\\Scaled data\\Result Scaled Pune\\Scaled_Pune_Pre_Data.xlsx\")\n",
    "synthetic_data = pd.read_excel(r\"C:\\Users\\karan\\Downloads\\Mansi Thesis\\Synthetic Pune\\Synthetic_Control_Pune_Pre_Campaign.xlsx\")\n",
    "\n",
    "# Print column names for both dataframes for debugging\n",
    "print(\"Pre-campaign data columns:\", pre_campaign_data.columns)\n",
    "print(\"Synthetic data columns:\", synthetic_data.columns)\n",
    "\n",
    "# Normalize column names: remove extra spaces and make them lowercase\n",
    "pre_campaign_data.columns = pre_campaign_data.columns.str.strip().str.lower()\n",
    "synthetic_data.columns = synthetic_data.columns.str.strip().str.lower()\n",
    "\n",
    "# Initialize a dictionary to store RMSE results\n",
    "rmse_results = {}\n",
    "\n",
    "# Iterate through each metric and compute RMSE\n",
    "for metric in pre_campaign_data.columns:\n",
    "    if metric in synthetic_data.columns:\n",
    "        actual_pune_values = pre_campaign_data[metric]\n",
    "        synthetic_pune_values = synthetic_data[metric]\n",
    "        \n",
    "        # Calculate RMSE for each metric\n",
    "        rmse = np.sqrt(((actual_pune_values - synthetic_pune_values) ** 2).mean())\n",
    "        rmse_results[metric] = rmse\n",
    "    else:\n",
    "        print(f\"Metric '{metric}' not found in synthetic_data\")\n",
    "\n",
    "# Convert the RMSE results into a pandas DataFrame for easy export\n",
    "rmse_df = pd.DataFrame(list(rmse_results.items()), columns=['Metric', 'RMSE'])\n",
    "\n",
    "# Export the RMSE results to an Excel file\n",
    "rmse_df.to_excel(r'C:\\Users\\karan\\Downloads\\Mansi Thesis\\RMSE\\rmse_results.xlsx', index=False)\n",
    "\n",
    "# Provide the path to download the file\n",
    "rmse_file_path = r'C:\\Users\\karan\\Downloads\\Mansi Thesis\\RMSE\\rmse_results.xlsx'\n",
    "print(f\"Download the file from: {rmse_file_path}\")\n"
   ]
  },
  {
   "cell_type": "code",
   "execution_count": null,
   "id": "20bc0a48-8283-4cd3-85a1-f5e48cf6216f",
   "metadata": {},
   "outputs": [],
   "source": []
  }
 ],
 "metadata": {
  "kernelspec": {
   "display_name": "Python 3 (ipykernel)",
   "language": "python",
   "name": "python3"
  },
  "language_info": {
   "codemirror_mode": {
    "name": "ipython",
    "version": 3
   },
   "file_extension": ".py",
   "mimetype": "text/x-python",
   "name": "python",
   "nbconvert_exporter": "python",
   "pygments_lexer": "ipython3",
   "version": "3.12.4"
  }
 },
 "nbformat": 4,
 "nbformat_minor": 5
}
