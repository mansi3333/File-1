{
 "cells": [
  {
   "cell_type": "code",
   "execution_count": 10,
   "id": "0ee3aabf-cedf-4f7e-86e2-ca4919fd8ab9",
   "metadata": {},
   "outputs": [
    {
     "name": "stdout",
     "output_type": "stream",
     "text": [
      "Causal effect analysis saved to C:\\Users\\karan\\Downloads\\Mansi Thesis\\Scaled\\Input Scaled\\Causal_Effect_Analysis.xlsx\n"
     ]
    }
   ],
   "source": [
    "\n",
    "\n",
    "\n",
    "import pandas as pd\n",
    "import numpy as np\n",
    "from sklearn.linear_model import LinearRegression\n",
    "\n",
    "pre_intervention_file = r\"C:\\Users\\karan\\Downloads\\Mansi Thesis\\Scaled\\Input Scaled\\Synthetic_Control_Pune - Original - Copy.xlsx\"\n",
    "post_intervention_file = r\"C:\\Users\\karan\\Downloads\\Mansi Thesis\\Scaled\\Input Scaled\\Scaled_Pune_Post_Data Og.xlsx\"\n",
    "output_file = r\"C:\\Users\\karan\\Downloads\\Mansi Thesis\\Scaled\\Input Scaled\\Causal_Effect_Analysis.xlsx\"\n",
    "\n",
    "# Load the data\n",
    "pre_intervention_data = pd.read_excel(pre_intervention_file, sheet_name=\"Sheet1\")\n",
    "post_intervention_data = pd.read_excel(post_intervention_file, sheet_name=\"Sheet1\")\n",
    "\n",
    "# Define KPI columns to use\n",
    "kpi_columns = [\n",
    "    'Impressions', 'Reach', 'Likes', 'Love Reactions', 'Care Reactions', \n",
    "    'Haha Reactions', 'Wow Reactions', 'Sad Reactions', 'Angry Reactions', \n",
    "    'Comment Count', 'Share Count', 'Profile Clicks', 'Video Views', \n",
    "    'Hide Post', 'CTR (%)', 'Conversion', 'Conversion Rate (%)', 'CPC (Rs)', \n",
    "    'CPA (Rs)'\n",
    "]\n",
    "\n",
    "# Find common columns between datasets\n",
    "common_columns = [col for col in kpi_columns if col in pre_intervention_data.columns and col in post_intervention_data.columns]\n",
    "\n",
    "# Ensure there are common columns\n",
    "if not common_columns:\n",
    "    raise ValueError(\"No matching columns found between pre- and post-intervention datasets.\")\n",
    "\n",
    "# Align pre- and post-intervention data to use the same common columns\n",
    "X_control = pre_intervention_data[common_columns].iloc[:, 1:]  # Exclude treated unit column\n",
    "y_treated = pre_intervention_data[common_columns].iloc[:, 0]  # Treated unit (first column)\n",
    "X_post_control = post_intervention_data[common_columns].iloc[:, 1:]  # Exclude treated unit column\n",
    "\n",
    "# Ensure columns match in both datasets\n",
    "if X_control.shape[1] != X_post_control.shape[1]:\n",
    "    raise ValueError(\"Mismatch in the number of columns between pre- and post-intervention datasets.\")\n",
    "\n",
    "# Fit a linear regression model to calculate weights\n",
    "reg = LinearRegression()\n",
    "reg.fit(X_control, y_treated)\n",
    "weights = reg.coef_\n",
    "\n",
    "# Compute synthetic post-intervention outcomes\n",
    "synthetic_post_intervention = X_post_control.dot(weights)\n",
    "\n",
    "# Calculate causal effects\n",
    "actual_post_intervention = post_intervention_data[common_columns[0]]  # Treated unit's actual outcomes\n",
    "causal_effect = actual_post_intervention - synthetic_post_intervention\n",
    "\n",
    "# Add results to the post-intervention data\n",
    "post_intervention_data['Synthetic Outcome'] = synthetic_post_intervention\n",
    "post_intervention_data['Causal Effect'] = causal_effect\n",
    "\n",
    "# Export results\n",
    "post_intervention_data.to_excel(output_file, index=False)\n",
    "print(f\"Causal effect analysis saved to {output_file}\")\n"
   ]
  },
  {
   "cell_type": "code",
   "execution_count": null,
   "id": "c859261c-d2fb-4eb2-bc06-02476d7bf5bd",
   "metadata": {},
   "outputs": [],
   "source": []
  }
 ],
 "metadata": {
  "kernelspec": {
   "display_name": "Python 3 (ipykernel)",
   "language": "python",
   "name": "python3"
  },
  "language_info": {
   "codemirror_mode": {
    "name": "ipython",
    "version": 3
   },
   "file_extension": ".py",
   "mimetype": "text/x-python",
   "name": "python",
   "nbconvert_exporter": "python",
   "pygments_lexer": "ipython3",
   "version": "3.12.4"
  }
 },
 "nbformat": 4,
 "nbformat_minor": 5
}
